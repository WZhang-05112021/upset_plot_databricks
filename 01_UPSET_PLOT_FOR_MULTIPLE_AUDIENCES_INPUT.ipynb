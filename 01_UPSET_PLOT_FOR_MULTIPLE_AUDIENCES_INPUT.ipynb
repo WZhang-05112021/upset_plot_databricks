{
 "cells": [
  {
   "cell_type": "code",
   "execution_count": 0,
   "metadata": {
    "application/vnd.databricks.v1+cell": {
     "cellMetadata": {
      "byteLimit": 2048000,
      "rowLimit": 10000
     },
     "inputWidgets": {},
     "nuid": "8cadc132-38f4-4d01-9d0a-b72ae33c0104",
     "showTitle": false,
     "title": ""
    }
   },
   "outputs": [],
   "source": [
    "dbutils.widgets.removeAll()"
   ]
  },
  {
   "cell_type": "markdown",
   "metadata": {
    "application/vnd.databricks.v1+cell": {
     "cellMetadata": {
      "byteLimit": 2048000,
      "rowLimit": 10000
     },
     "inputWidgets": {},
     "nuid": "8088401b-74a1-4292-87ac-934b91d062a6",
     "showTitle": false,
     "title": ""
    }
   },
   "source": [
    "## REQUESTER NAME"
   ]
  },
  {
   "cell_type": "code",
   "execution_count": 0,
   "metadata": {
    "application/vnd.databricks.v1+cell": {
     "cellMetadata": {
      "byteLimit": 2048000,
      "rowLimit": 10000
     },
     "inputWidgets": {},
     "nuid": "6449a7c8-4c47-4eb7-9f1d-6802ecdb1719",
     "showTitle": false,
     "title": ""
    }
   },
   "outputs": [
    {
     "output_type": "stream",
     "name": "stdout",
     "output_type": "stream",
     "text": [
      "Out[7]: 'XZHANG'"
     ]
    }
   ],
   "source": [
    "dbutils.widgets.text(\"01_Requester_Name\", \"Enter_Your_Name\", label=\"01 Requester Name\")\n",
    "requester = dbutils.widgets.get(\"01_Requester_Name\")\n",
    "requester = requester.strip().replace(\" \", \"_\").upper()\n",
    "requester \n",
    "#dbutils.widgets.remove(\"Requester_Name\")"
   ]
  },
  {
   "cell_type": "code",
   "execution_count": 0,
   "metadata": {
    "application/vnd.databricks.v1+cell": {
     "cellMetadata": {
      "byteLimit": 2048000,
      "rowLimit": 10000
     },
     "inputWidgets": {},
     "nuid": "ab64fffb-97ee-45a9-a900-d309557df592",
     "showTitle": false,
     "title": ""
    }
   },
   "outputs": [],
   "source": [
    "# requester = \"XZHANG\""
   ]
  },
  {
   "cell_type": "markdown",
   "metadata": {
    "application/vnd.databricks.v1+cell": {
     "cellMetadata": {
      "byteLimit": 2048000,
      "rowLimit": 10000
     },
     "inputWidgets": {},
     "nuid": "9ee5a0ca-7fc8-43fb-91fc-9fb3642d28fa",
     "showTitle": false,
     "title": ""
    }
   },
   "source": [
    "## SCHEMA"
   ]
  },
  {
   "cell_type": "code",
   "execution_count": 0,
   "metadata": {
    "application/vnd.databricks.v1+cell": {
     "cellMetadata": {
      "byteLimit": 2048000,
      "rowLimit": 10000
     },
     "inputWidgets": {},
     "nuid": "557cace2-2cea-457c-ab40-f9a2a753beec",
     "showTitle": false,
     "title": ""
    }
   },
   "outputs": [
    {
     "output_type": "stream",
     "name": "stdout",
     "output_type": "stream",
     "text": [
      "Out[9]: 'ADVANCEDANALYTICS_SANDBOX'"
     ]
    }
   ],
   "source": [
    "dbutils.widgets.text(\"02_SF_Schema\", \"ADVANCEDANALYTICS_SANDBOX\", label=\"02 SF Schema\")\n",
    "db_schema = dbutils.widgets.get(\"02_SF_Schema\")\n",
    "db_schema\n",
    "#dbutils.widgets.remove(\"SCHEMA\")"
   ]
  },
  {
   "cell_type": "code",
   "execution_count": 0,
   "metadata": {
    "application/vnd.databricks.v1+cell": {
     "cellMetadata": {
      "byteLimit": 2048000,
      "rowLimit": 10000
     },
     "inputWidgets": {},
     "nuid": "106be01c-32fa-4003-ab90-570b779a97ec",
     "showTitle": false,
     "title": ""
    }
   },
   "outputs": [],
   "source": [
    "# db_schema = \"ADVANCEDANALYTICS_SANDBOX\""
   ]
  },
  {
   "cell_type": "markdown",
   "metadata": {
    "application/vnd.databricks.v1+cell": {
     "cellMetadata": {
      "byteLimit": 2048000,
      "rowLimit": 10000
     },
     "inputWidgets": {},
     "nuid": "375e53e7-ef65-4db7-ab8b-3a9059b5e326",
     "showTitle": false,
     "title": ""
    }
   },
   "source": [
    "## AUDIENCE TABLE NAMES"
   ]
  },
  {
   "cell_type": "code",
   "execution_count": 0,
   "metadata": {
    "application/vnd.databricks.v1+cell": {
     "cellMetadata": {
      "byteLimit": 2048000,
      "rowLimit": 10000
     },
     "inputWidgets": {},
     "nuid": "5b966f73-ee54-4200-96ef-00881ac59d94",
     "showTitle": false,
     "title": ""
    }
   },
   "outputs": [
    {
     "output_type": "stream",
     "name": "stdout",
     "output_type": "stream",
     "text": [
      "Out[13]: ['CORE_SEED_MID24',\n 'HIGH_MODERATE_SEED_MID24',\n 'LOW_MODERATE_SEED_MID24',\n 'LIGHT_SEED_MID24',\n 'CBS_MID_2024_DEDUPED_HISPANIC_VIEWERS',\n 'CBS_MID_2024_DEDUPED_AFRICAN_AMERICAN_VIEWER',\n 'CBS_MID_2024_DEDUPED_STREAMING_VIEWERS']"
     ]
    }
   ],
   "source": [
    "dbutils.widgets.text(\"04_Table_Names\", \"Enter_Table_Name\", label=\"04 Table Names\")\n",
    "table_names = dbutils.widgets.get(\"04_Table_Names\")\n",
    "table_names = table_names.split(\",\")\n",
    "table_names = [segment.strip() for segment in table_names]\n",
    "table_names\n",
    "#dbutils.widgets.remove(\"Table_Names\")"
   ]
  },
  {
   "cell_type": "markdown",
   "metadata": {
    "application/vnd.databricks.v1+cell": {
     "cellMetadata": {
      "byteLimit": 2048000,
      "rowLimit": 10000
     },
     "inputWidgets": {},
     "nuid": "07c7eca0-3dfc-44a1-8729-332e4a6adfda",
     "showTitle": false,
     "title": ""
    }
   },
   "source": [
    "## AUDIENCE NAMES"
   ]
  },
  {
   "cell_type": "code",
   "execution_count": 0,
   "metadata": {
    "application/vnd.databricks.v1+cell": {
     "cellMetadata": {
      "byteLimit": 2048000,
      "rowLimit": 10000
     },
     "inputWidgets": {},
     "nuid": "51740685-fdfc-4273-af46-8bb2fe74d4df",
     "showTitle": false,
     "title": ""
    }
   },
   "outputs": [
    {
     "output_type": "stream",
     "name": "stdout",
     "output_type": "stream",
     "text": [
      "Out[16]: ['CORE',\n 'HIGH_MODERATE',\n 'LOW_MODERATE',\n 'LIGHT',\n 'HISPANIC',\n 'AFRICAN_AMERICAN',\n 'STREAMING']"
     ]
    }
   ],
   "source": [
    "dbutils.widgets.text(\"05_Audience_Names\", \"Enter_Audience_Names\", label=\"05 Audience Names\")\n",
    "audience_names = dbutils.widgets.get(\"05_Audience_Names\")\n",
    "audience_names = audience_names.split(\",\")\n",
    "audience_names = [segment.strip().replace(\" \", \"_\").upper() for segment in audience_names]\n",
    "audience_names\n",
    "#dbutils.widgets.remove(\"audience_names\")"
   ]
  },
  {
   "cell_type": "markdown",
   "metadata": {
    "application/vnd.databricks.v1+cell": {
     "cellMetadata": {
      "byteLimit": 2048000,
      "rowLimit": 10000
     },
     "inputWidgets": {},
     "nuid": "e60cfc44-b7e3-4b38-80ad-15aaa66fb61f",
     "showTitle": false,
     "title": ""
    }
   },
   "source": [
    "## OUTPUT FILE NAME"
   ]
  },
  {
   "cell_type": "code",
   "execution_count": 0,
   "metadata": {
    "application/vnd.databricks.v1+cell": {
     "cellMetadata": {
      "byteLimit": 2048000,
      "rowLimit": 10000
     },
     "inputWidgets": {},
     "nuid": "e0a96cd3-d0e0-4612-a6b4-efd9ccb95b62",
     "showTitle": false,
     "title": ""
    }
   },
   "outputs": [
    {
     "output_type": "stream",
     "name": "stdout",
     "output_type": "stream",
     "text": [
      "Out[19]: 'CBS_AUDIENCE'"
     ]
    }
   ],
   "source": [
    "dbutils.widgets.text(\"03_Output_Name\", \"Enter_Output_Name\", label=\"03 Output Name\")\n",
    "output_name = dbutils.widgets.get(\"03_Output_Name\")\n",
    "output_name = output_name.strip().replace(\" \", \"_\").upper()\n",
    "output_name "
   ]
  },
  {
   "cell_type": "markdown",
   "metadata": {
    "application/vnd.databricks.v1+cell": {
     "cellMetadata": {
      "byteLimit": 2048000,
      "rowLimit": 10000
     },
     "inputWidgets": {},
     "nuid": "45de5734-5572-4ef9-b45b-73271c2a5fdf",
     "showTitle": false,
     "title": ""
    }
   },
   "source": [
    "## MINIMUM BAR SIZE IN PLOT"
   ]
  },
  {
   "cell_type": "code",
   "execution_count": 0,
   "metadata": {
    "application/vnd.databricks.v1+cell": {
     "cellMetadata": {
      "byteLimit": 2048000,
      "rowLimit": 10000
     },
     "inputWidgets": {},
     "nuid": "54687a18-b846-48f2-b86c-981b118a3f61",
     "showTitle": false,
     "title": ""
    }
   },
   "outputs": [
    {
     "output_type": "stream",
     "name": "stdout",
     "output_type": "stream",
     "text": [
      "Out[20]: 0"
     ]
    }
   ],
   "source": [
    "dbutils.widgets.text(\"06_Min_Bar_Size\", \"0\", label=\"06 Minimum Bar Size\")\n",
    "min_bar_size_working = dbutils.widgets.get(\"06_Min_Bar_Size\")\n",
    "min_bar_size = int(min_bar_size_working) if int(min_bar_size_working) > 0 else 0\n",
    "# min_bar_size = int(min_bar_size)\n",
    "min_bar_size "
   ]
  },
  {
   "cell_type": "markdown",
   "metadata": {
    "application/vnd.databricks.v1+cell": {
     "cellMetadata": {
      "byteLimit": 2048000,
      "rowLimit": 10000
     },
     "inputWidgets": {},
     "nuid": "04e83ee2-0991-469f-af52-2b18a90530e0",
     "showTitle": false,
     "title": ""
    }
   },
   "source": [
    "## ID TYPE: BLU_ID vs. INSCAPE_TV_KEY"
   ]
  },
  {
   "cell_type": "code",
   "execution_count": 0,
   "metadata": {
    "application/vnd.databricks.v1+cell": {
     "cellMetadata": {
      "byteLimit": 2048000,
      "rowLimit": 10000
     },
     "inputWidgets": {},
     "nuid": "2bb675af-d1c0-4134-a35f-bbd8e5476d89",
     "showTitle": false,
     "title": ""
    }
   },
   "outputs": [
    {
     "output_type": "stream",
     "name": "stdout",
     "output_type": "stream",
     "text": [
      "Out[23]: 'INSCAPE_TV_KEY'"
     ]
    }
   ],
   "source": [
    "dbutils.widgets.text(\"07_ID_Type\", \"BLU_ID\", label=\"07 ID Type\")\n",
    "id_type = dbutils.widgets.get(\"07_ID_Type\")\n",
    "id_type = id_type.strip().upper()\n",
    "# id_type_working = dbutils.widgets.get(\"07_ID_Type\")\n",
    "# id_type = 'BLU_ID' if id_type_working.upper() == 'BLU_ID' else id_type_working.upper()\n",
    "id_type"
   ]
  },
  {
   "cell_type": "code",
   "execution_count": 0,
   "metadata": {
    "application/vnd.databricks.v1+cell": {
     "cellMetadata": {
      "byteLimit": 2048000,
      "rowLimit": 10000
     },
     "inputWidgets": {},
     "nuid": "89957f05-5ffb-40d9-9b84-6c005d4b2ea3",
     "showTitle": false,
     "title": ""
    }
   },
   "outputs": [],
   "source": [
    "# # plot image name\n",
    "# output_name = 'TEST AUDIENCES'\n",
    "# output_name = output_name.replace(\" \", \"_\")\n",
    "# output_name"
   ]
  },
  {
   "cell_type": "code",
   "execution_count": 0,
   "metadata": {
    "application/vnd.databricks.v1+cell": {
     "cellMetadata": {
      "byteLimit": 2048000,
      "rowLimit": 10000
     },
     "inputWidgets": {},
     "nuid": "9abc129b-0d41-47f4-877a-0f1f057edaa0",
     "showTitle": false,
     "title": ""
    }
   },
   "outputs": [
    {
     "output_type": "stream",
     "name": "stdout",
     "output_type": "stream",
     "text": [
      "Requirement already satisfied: pip in /local_disk0/.ephemeral_nfs/envs/pythonEnv-7285ff57-b880-4126-a0be-1d41b14fccb8/lib/python3.9/site-packages (24.0)\r\n\u001B[33mDEPRECATION: distro-info 0.23ubuntu1 has a non-standard version number. pip 24.1 will enforce this behaviour change. A possible replacement is to upgrade to a newer version of distro-info or contact the author to suggest that they release a version with a conforming version number. Discussion can be found at https://github.com/pypa/pip/issues/12063\u001B[0m\u001B[33m\r\n\u001B[0m"
     ]
    }
   ],
   "source": [
    "!pip install --upgrade pip"
   ]
  },
  {
   "cell_type": "code",
   "execution_count": 0,
   "metadata": {
    "application/vnd.databricks.v1+cell": {
     "cellMetadata": {
      "byteLimit": 2048000,
      "rowLimit": 10000
     },
     "inputWidgets": {},
     "nuid": "f11a5074-b799-427a-876a-9a8a6001f9c8",
     "showTitle": false,
     "title": ""
    }
   },
   "outputs": [
    {
     "output_type": "display_data",
     "data": {
      "text/html": [
       "<style scoped>\n",
       "  .ansiout {\n",
       "    display: block;\n",
       "    unicode-bidi: embed;\n",
       "    white-space: pre-wrap;\n",
       "    word-wrap: break-word;\n",
       "    word-break: break-all;\n",
       "    font-family: \"Menlo\", \"Monaco\", \"Consolas\", \"Ubuntu Mono\", \"Source Code Pro\", monospace;\n",
       "    font-size: 13px;\n",
       "    color: #555;\n",
       "    margin-left: 4px;\n",
       "    line-height: 19px;\n",
       "  }\n",
       "</style>"
      ]
     },
     "metadata": {
      "application/vnd.databricks.v1+output": {
       "arguments": {},
       "data": "",
       "errorSummary": "Cancelled",
       "errorTraceType": "html",
       "metadata": {},
       "type": "ipynbError"
      }
     },
     "output_type": "display_data"
    }
   ],
   "source": [
    "import os\n",
    "# import snowflake.connector\n",
    "import pandas as pd\n",
    "import numpy as np\n",
    "# import datetime\n",
    "from datetime import date\n",
    "from datetime import datetime\n",
    "from functools import reduce"
   ]
  },
  {
   "cell_type": "code",
   "execution_count": 0,
   "metadata": {
    "application/vnd.databricks.v1+cell": {
     "cellMetadata": {
      "byteLimit": 2048000,
      "rowLimit": 10000
     },
     "inputWidgets": {},
     "nuid": "a2fcdcc2-805b-4894-af0c-f482aace3053",
     "showTitle": false,
     "title": ""
    }
   },
   "outputs": [
    {
     "output_type": "display_data",
     "data": {
      "text/html": [
       "<style scoped>\n",
       "  .ansiout {\n",
       "    display: block;\n",
       "    unicode-bidi: embed;\n",
       "    white-space: pre-wrap;\n",
       "    word-wrap: break-word;\n",
       "    word-break: break-all;\n",
       "    font-family: \"Menlo\", \"Monaco\", \"Consolas\", \"Ubuntu Mono\", \"Source Code Pro\", monospace;\n",
       "    font-size: 13px;\n",
       "    color: #555;\n",
       "    margin-left: 4px;\n",
       "    line-height: 19px;\n",
       "  }\n",
       "</style>"
      ]
     },
     "metadata": {
      "application/vnd.databricks.v1+output": {
       "arguments": {},
       "data": "",
       "errorSummary": "Command skipped",
       "errorTraceType": "html",
       "metadata": {},
       "type": "ipynbError"
      }
     },
     "output_type": "display_data"
    }
   ],
   "source": [
    "# Check if upsetplot is not installed, install it, otherwise skip it\n",
    "import subprocess\n",
    "import sys\n",
    "\n",
    "reqs = subprocess.check_output([sys.executable, '-m', 'pip', 'freeze'])\n",
    "installed_packages = [r.decode().split('==')[0] for r in reqs.split()]\n",
    "\n",
    "if not(installed_packages.count('UpSetPlot') > 0 ):\n",
    "    !pip install upsetplot\n",
    "else:\n",
    "    print('UpSetPlot is already installed.')"
   ]
  },
  {
   "cell_type": "code",
   "execution_count": 0,
   "metadata": {
    "application/vnd.databricks.v1+cell": {
     "cellMetadata": {
      "byteLimit": 2048000,
      "rowLimit": 10000
     },
     "inputWidgets": {},
     "nuid": "bf21913c-1336-4212-b711-c6b235589db2",
     "showTitle": false,
     "title": ""
    }
   },
   "outputs": [
    {
     "output_type": "display_data",
     "data": {
      "text/html": [
       "<style scoped>\n",
       "  .ansiout {\n",
       "    display: block;\n",
       "    unicode-bidi: embed;\n",
       "    white-space: pre-wrap;\n",
       "    word-wrap: break-word;\n",
       "    word-break: break-all;\n",
       "    font-family: \"Menlo\", \"Monaco\", \"Consolas\", \"Ubuntu Mono\", \"Source Code Pro\", monospace;\n",
       "    font-size: 13px;\n",
       "    color: #555;\n",
       "    margin-left: 4px;\n",
       "    line-height: 19px;\n",
       "  }\n",
       "</style>"
      ]
     },
     "metadata": {
      "application/vnd.databricks.v1+output": {
       "arguments": {},
       "data": "",
       "errorSummary": "Command skipped",
       "errorTraceType": "html",
       "metadata": {},
       "type": "ipynbError"
      }
     },
     "output_type": "display_data"
    }
   ],
   "source": [
    "# !pip install upsetplot\n",
    "import upsetplot\n",
    "from upsetplot import generate_counts\n",
    "from matplotlib import pyplot as plt\n",
    "from upsetplot import generate_counts, plot\n",
    "from upsetplot import UpSet\n",
    "from upsetplot import from_memberships\n",
    "# import snowflake.connector\n",
    "from scipy import stats "
   ]
  },
  {
   "cell_type": "code",
   "execution_count": 0,
   "metadata": {
    "application/vnd.databricks.v1+cell": {
     "cellMetadata": {
      "byteLimit": 2048000,
      "rowLimit": 10000
     },
     "inputWidgets": {},
     "nuid": "f6f9789c-4cf9-40ae-a9db-2802c0343be3",
     "showTitle": false,
     "title": ""
    }
   },
   "outputs": [
    {
     "output_type": "display_data",
     "data": {
      "text/html": [
       "<style scoped>\n",
       "  .ansiout {\n",
       "    display: block;\n",
       "    unicode-bidi: embed;\n",
       "    white-space: pre-wrap;\n",
       "    word-wrap: break-word;\n",
       "    word-break: break-all;\n",
       "    font-family: \"Menlo\", \"Monaco\", \"Consolas\", \"Ubuntu Mono\", \"Source Code Pro\", monospace;\n",
       "    font-size: 13px;\n",
       "    color: #555;\n",
       "    margin-left: 4px;\n",
       "    line-height: 19px;\n",
       "  }\n",
       "</style>"
      ]
     },
     "metadata": {
      "application/vnd.databricks.v1+output": {
       "arguments": {},
       "data": "",
       "errorSummary": "Command skipped",
       "errorTraceType": "html",
       "metadata": {},
       "type": "ipynbError"
      }
     },
     "output_type": "display_data"
    }
   ],
   "source": [
    "### DB - SPARK\n",
    "from pyspark.sql.types import FloatType\n",
    "from pyspark.sql.functions import col\n",
    "from shutil import copyfile\n",
    "### DB - PYTHON\n",
    "import xlsxwriter\n",
    "##############################################################################\n",
    "## TO BE ABLE TO RUN A SCRIPT IN A REPO\n",
    "from databricks.sdk.runtime import * \n",
    "#1.a\n",
    "service_credential = dbutils.secrets.get(scope=\"Scope3\",key=\"Scope1\")\n",
    "spark.conf.set(\"fs.azure.account.auth.type.hmimltestdatalake.dfs.core.windows.net\", \"OAuth\")\n",
    "spark.conf.set(\"fs.azure.account.oauth.provider.type.hmimltestdatalake.dfs.core.windows.net\", \"org.apache.hadoop.fs.azurebfs.oauth2.ClientCredsTokenProvider\")\n",
    "spark.conf.set(\"fs.azure.account.oauth2.client.id.hmimltestdatalake.dfs.core.windows.net\", \"fc8698e0-8d39-4c9c-9ff2-b8f1662c56ec\")\n",
    "spark.conf.set(\"fs.azure.account.oauth2.client.secret.hmimltestdatalake.dfs.core.windows.net\", service_credential)\n",
    "spark.conf.set(\"fs.azure.account.oauth2.client.endpoint.hmimltestdatalake.dfs.core.windows.net\", \"https://login.microsoftonline.com/57045f6b-531e-46ed-9ed8-6a60e2869d82/oauth2/token\")\n",
    "##############################################################################\n",
    "#1.b\n",
    "sfOptions = {\n",
    "\"sfURL\" : \"hmimtd.us-east-1.snowflakecomputing.com\",\n",
    "\"sfUser\" : \"svc_advancedanalytics_sandbox_knime\",\n",
    "\"sfPassword\" : \"BzBgbuwtB&75g67^\",\n",
    "\"sfDatabase\" : \"HORIZON_PROD\",\n",
    "\"sfSchema\" : \"ADVANCEDANALYTICS_SANDBOX\",\n",
    "\"sfWarehouse\" : \"MARKETING_SCIENCE_WH\"\n",
    "}"
   ]
  },
  {
   "cell_type": "code",
   "execution_count": 0,
   "metadata": {
    "application/vnd.databricks.v1+cell": {
     "cellMetadata": {
      "byteLimit": 2048000,
      "rowLimit": 10000
     },
     "inputWidgets": {},
     "nuid": "9e9a5817-1bc6-443f-b8b8-ccf0a83a0ee6",
     "showTitle": false,
     "title": ""
    }
   },
   "outputs": [
    {
     "output_type": "display_data",
     "data": {
      "text/html": [
       "<style scoped>\n",
       "  .ansiout {\n",
       "    display: block;\n",
       "    unicode-bidi: embed;\n",
       "    white-space: pre-wrap;\n",
       "    word-wrap: break-word;\n",
       "    word-break: break-all;\n",
       "    font-family: \"Menlo\", \"Monaco\", \"Consolas\", \"Ubuntu Mono\", \"Source Code Pro\", monospace;\n",
       "    font-size: 13px;\n",
       "    color: #555;\n",
       "    margin-left: 4px;\n",
       "    line-height: 19px;\n",
       "  }\n",
       "</style>"
      ]
     },
     "metadata": {
      "application/vnd.databricks.v1+output": {
       "arguments": {},
       "data": "",
       "errorSummary": "Command skipped",
       "errorTraceType": "html",
       "metadata": {},
       "type": "ipynbError"
      }
     },
     "output_type": "display_data"
    }
   ],
   "source": [
    "# Generate list of output image file names\n",
    "\n",
    "image_names = ['01_UPSET_PLOT_SORTED_BY_CATEGORY_-_' , '02_UPSET_PLOT_SORTED_BY_VOLUME_-_' , \n",
    "               '03_UPSET_PLOT_SORTED_BY_CATEGORY_IN_THOUSAND_-_', '04_UPSET_PLOT_SORTED_BY_VOLUME_IN_THOUSAND_-_' ]\n",
    "image_names = [(x + output_name + '.jpeg') for x in image_names ]\n",
    "\n",
    "image_names"
   ]
  },
  {
   "cell_type": "code",
   "execution_count": 0,
   "metadata": {
    "application/vnd.databricks.v1+cell": {
     "cellMetadata": {
      "byteLimit": 2048000,
      "rowLimit": 10000
     },
     "inputWidgets": {},
     "nuid": "11d84323-b1b8-4407-b98d-61ee86c9a71d",
     "showTitle": false,
     "title": ""
    }
   },
   "outputs": [
    {
     "output_type": "display_data",
     "data": {
      "text/html": [
       "<style scoped>\n",
       "  .ansiout {\n",
       "    display: block;\n",
       "    unicode-bidi: embed;\n",
       "    white-space: pre-wrap;\n",
       "    word-wrap: break-word;\n",
       "    word-break: break-all;\n",
       "    font-family: \"Menlo\", \"Monaco\", \"Consolas\", \"Ubuntu Mono\", \"Source Code Pro\", monospace;\n",
       "    font-size: 13px;\n",
       "    color: #555;\n",
       "    margin-left: 4px;\n",
       "    line-height: 19px;\n",
       "  }\n",
       "</style>"
      ]
     },
     "metadata": {
      "application/vnd.databricks.v1+output": {
       "arguments": {},
       "data": "",
       "errorSummary": "Command skipped",
       "errorTraceType": "html",
       "metadata": {},
       "type": "ipynbError"
      }
     },
     "output_type": "display_data"
    }
   ],
   "source": [
    "# Export Excel File Name:\n",
    "excel_file_name = '00_UPSET_PLOT_OVERLAP_SIZE_-_' + output_name + '.xlsx'\n",
    "excel_file_name = excel_file_name.replace(' ', '_') \n",
    "excel_file_name"
   ]
  },
  {
   "cell_type": "code",
   "execution_count": 0,
   "metadata": {
    "application/vnd.databricks.v1+cell": {
     "cellMetadata": {
      "byteLimit": 2048000,
      "rowLimit": 10000
     },
     "inputWidgets": {},
     "nuid": "9cc2c7c6-d169-4ae1-8e2a-5443d7de6a31",
     "showTitle": false,
     "title": ""
    }
   },
   "outputs": [
    {
     "output_type": "display_data",
     "data": {
      "text/html": [
       "<style scoped>\n",
       "  .ansiout {\n",
       "    display: block;\n",
       "    unicode-bidi: embed;\n",
       "    white-space: pre-wrap;\n",
       "    word-wrap: break-word;\n",
       "    word-break: break-all;\n",
       "    font-family: \"Menlo\", \"Monaco\", \"Consolas\", \"Ubuntu Mono\", \"Source Code Pro\", monospace;\n",
       "    font-size: 13px;\n",
       "    color: #555;\n",
       "    margin-left: 4px;\n",
       "    line-height: 19px;\n",
       "  }\n",
       "</style>"
      ]
     },
     "metadata": {
      "application/vnd.databricks.v1+output": {
       "arguments": {},
       "data": "",
       "errorSummary": "Command skipped",
       "errorTraceType": "html",
       "metadata": {},
       "type": "ipynbError"
      }
     },
     "output_type": "display_data"
    }
   ],
   "source": [
    "File_initial_Path = os.getcwd()\n",
    "File_initial_Path"
   ]
  },
  {
   "cell_type": "code",
   "execution_count": 0,
   "metadata": {
    "application/vnd.databricks.v1+cell": {
     "cellMetadata": {
      "byteLimit": 2048000,
      "rowLimit": 10000
     },
     "inputWidgets": {},
     "nuid": "361d8e75-0dae-47f6-954d-2bc54b9cecb1",
     "showTitle": false,
     "title": ""
    }
   },
   "outputs": [
    {
     "output_type": "display_data",
     "data": {
      "text/html": [
       "<style scoped>\n",
       "  .ansiout {\n",
       "    display: block;\n",
       "    unicode-bidi: embed;\n",
       "    white-space: pre-wrap;\n",
       "    word-wrap: break-word;\n",
       "    word-break: break-all;\n",
       "    font-family: \"Menlo\", \"Monaco\", \"Consolas\", \"Ubuntu Mono\", \"Source Code Pro\", monospace;\n",
       "    font-size: 13px;\n",
       "    color: #555;\n",
       "    margin-left: 4px;\n",
       "    line-height: 19px;\n",
       "  }\n",
       "</style>"
      ]
     },
     "metadata": {
      "application/vnd.databricks.v1+output": {
       "arguments": {},
       "data": "",
       "errorSummary": "Command skipped",
       "errorTraceType": "html",
       "metadata": {},
       "type": "ipynbError"
      }
     },
     "output_type": "display_data"
    }
   ],
   "source": [
    "## Snowflake Connection"
   ]
  },
  {
   "cell_type": "code",
   "execution_count": 0,
   "metadata": {
    "application/vnd.databricks.v1+cell": {
     "cellMetadata": {
      "byteLimit": 2048000,
      "rowLimit": 10000
     },
     "inputWidgets": {},
     "nuid": "30ae0b63-fb10-4d36-a546-08b41ac3d6dd",
     "showTitle": false,
     "title": ""
    }
   },
   "outputs": [
    {
     "output_type": "display_data",
     "data": {
      "text/html": [
       "<style scoped>\n",
       "  .ansiout {\n",
       "    display: block;\n",
       "    unicode-bidi: embed;\n",
       "    white-space: pre-wrap;\n",
       "    word-wrap: break-word;\n",
       "    word-break: break-all;\n",
       "    font-family: \"Menlo\", \"Monaco\", \"Consolas\", \"Ubuntu Mono\", \"Source Code Pro\", monospace;\n",
       "    font-size: 13px;\n",
       "    color: #555;\n",
       "    margin-left: 4px;\n",
       "    line-height: 19px;\n",
       "  }\n",
       "</style>"
      ]
     },
     "metadata": {
      "application/vnd.databricks.v1+output": {
       "arguments": {},
       "data": "",
       "errorSummary": "Command skipped",
       "errorTraceType": "html",
       "metadata": {},
       "type": "ipynbError"
      }
     },
     "output_type": "display_data"
    }
   ],
   "source": [
    "audience_temp = {\n",
    "'AUDIENCE' : table_names,\n",
    "'AUDIENCE_SHORT_NAME': audience_names\n",
    "}\n",
    "audience_df = pd.DataFrame(audience_temp)\n",
    "audience_df"
   ]
  },
  {
   "cell_type": "code",
   "execution_count": 0,
   "metadata": {
    "application/vnd.databricks.v1+cell": {
     "cellMetadata": {
      "byteLimit": 2048000,
      "rowLimit": 10000
     },
     "inputWidgets": {},
     "nuid": "c8b42c2b-e0f4-4c26-954a-bf9aa0fd6810",
     "showTitle": false,
     "title": ""
    }
   },
   "outputs": [
    {
     "output_type": "display_data",
     "data": {
      "text/html": [
       "<style scoped>\n",
       "  .ansiout {\n",
       "    display: block;\n",
       "    unicode-bidi: embed;\n",
       "    white-space: pre-wrap;\n",
       "    word-wrap: break-word;\n",
       "    word-break: break-all;\n",
       "    font-family: \"Menlo\", \"Monaco\", \"Consolas\", \"Ubuntu Mono\", \"Source Code Pro\", monospace;\n",
       "    font-size: 13px;\n",
       "    color: #555;\n",
       "    margin-left: 4px;\n",
       "    line-height: 19px;\n",
       "  }\n",
       "</style>"
      ]
     },
     "metadata": {
      "application/vnd.databricks.v1+output": {
       "arguments": {},
       "data": "",
       "errorSummary": "Command skipped",
       "errorTraceType": "html",
       "metadata": {},
       "type": "ipynbError"
      }
     },
     "output_type": "display_data"
    }
   ],
   "source": [
    "# audience_temp = {\n",
    "#     'AUDIENCE' :  [\"H_BTB_ALL_WATER_IBTT_CS_ACTIVEIDS_L2Y_TABLE_LL_EXP\",\n",
    "#                     \"H_BTB_FLAVORED_WATER_IBTT_CS_ACTIVEIDS_L2Y_TABLE_LL_EXP\",\n",
    "#                     \"H_BTB_SPARKLING_WATER_IBTT_CS_ACTIVEIDS_L2Y_TABLE_LL_EXP\",\n",
    "#                     \"H_BTB_UNFLAVORED_STILL_WATER_IBTT_CS_ACTIVEIDS_L2Y_TABLE_LL_EXP\"\n",
    "#                     ],\n",
    "#     'AUDIENCE_SHORT_NAME' : [\"ALL_WATER_BUYER\",\n",
    "#                             \"FLAVORED_WATER_BUYER\",\n",
    "#                             \"SPARKLING_WATER_BUYER\",\n",
    "#                             \"UNFLAVORED_STILL_WATER_BUYER\"\n",
    "#                             ]\n",
    "# }\n",
    "# audience_df = pd.DataFrame(audience_temp)\n",
    "# audience_df"
   ]
  },
  {
   "cell_type": "code",
   "execution_count": 0,
   "metadata": {
    "application/vnd.databricks.v1+cell": {
     "cellMetadata": {
      "byteLimit": 2048000,
      "rowLimit": 10000
     },
     "inputWidgets": {},
     "nuid": "da0757b1-9af1-4409-8c4e-8fea0ca10200",
     "showTitle": false,
     "title": ""
    }
   },
   "outputs": [
    {
     "output_type": "display_data",
     "data": {
      "text/html": [
       "<style scoped>\n",
       "  .ansiout {\n",
       "    display: block;\n",
       "    unicode-bidi: embed;\n",
       "    white-space: pre-wrap;\n",
       "    word-wrap: break-word;\n",
       "    word-break: break-all;\n",
       "    font-family: \"Menlo\", \"Monaco\", \"Consolas\", \"Ubuntu Mono\", \"Source Code Pro\", monospace;\n",
       "    font-size: 13px;\n",
       "    color: #555;\n",
       "    margin-left: 4px;\n",
       "    line-height: 19px;\n",
       "  }\n",
       "</style>"
      ]
     },
     "metadata": {
      "application/vnd.databricks.v1+output": {
       "arguments": {},
       "data": "",
       "errorSummary": "Command skipped",
       "errorTraceType": "html",
       "metadata": {},
       "type": "ipynbError"
      }
     },
     "output_type": "display_data"
    }
   ],
   "source": [
    "# Generate working string \n",
    "# Step 1\n",
    "audience_df['WORKING_STRING'] = \"\"\"select \"\"\" + id_type + \"\"\", '\"\"\" + audience_df['AUDIENCE_SHORT_NAME'] + \"\"\"' as VALUE\n",
    "from HORIZON_PROD.\"\"\" + db_schema + \"\"\".\"\"\" + audience_df['AUDIENCE']\n",
    "# audience_df['WORKING_STRING']\n",
    "\n",
    "# Generate working string step 2\n",
    "value_list = audience_df['WORKING_STRING']\n",
    "# value_list\n",
    "\n",
    "# step 3\n",
    "value_list_2 = \"\"\"\n",
    "\"\"\" + value_list + \"\"\"\n",
    "\"\"\"\n",
    "#value_list_2\n",
    "\n",
    "seperator = \"\"\" \n",
    "union all \n",
    "\"\"\"\n",
    "value_list_final = seperator.join(value_list_2)\n",
    "\n",
    "# print(value_list_final)"
   ]
  },
  {
   "cell_type": "code",
   "execution_count": 0,
   "metadata": {
    "application/vnd.databricks.v1+cell": {
     "cellMetadata": {
      "byteLimit": 2048000,
      "rowLimit": 10000
     },
     "inputWidgets": {},
     "nuid": "b07bcf89-b0e8-4137-9dc3-855dab24189f",
     "showTitle": false,
     "title": ""
    }
   },
   "outputs": [
    {
     "output_type": "display_data",
     "data": {
      "text/html": [
       "<style scoped>\n",
       "  .ansiout {\n",
       "    display: block;\n",
       "    unicode-bidi: embed;\n",
       "    white-space: pre-wrap;\n",
       "    word-wrap: break-word;\n",
       "    word-break: break-all;\n",
       "    font-family: \"Menlo\", \"Monaco\", \"Consolas\", \"Ubuntu Mono\", \"Source Code Pro\", monospace;\n",
       "    font-size: 13px;\n",
       "    color: #555;\n",
       "    margin-left: 4px;\n",
       "    line-height: 19px;\n",
       "  }\n",
       "</style>"
      ]
     },
     "metadata": {
      "application/vnd.databricks.v1+output": {
       "arguments": {},
       "data": "",
       "errorSummary": "Command skipped",
       "errorTraceType": "html",
       "metadata": {},
       "type": "ipynbError"
      }
     },
     "output_type": "display_data"
    }
   ],
   "source": [
    "# query string part 2\n",
    "# Generate working string part2\n",
    "audience_df['WORKING_STRING_P2'] = \"\"\"MAX( CASE WHEN VALUE = '\"\"\" + audience_df['AUDIENCE_SHORT_NAME'] + \"\"\"' THEN 1 ELSE 0 END) AS \"\"\" + '''\"''' + audience_df['AUDIENCE_SHORT_NAME'] + '''\"'''\n",
    "# audience_df['WORKING_STRING_P2']\n",
    "\n",
    "# Generate working string\n",
    "value_list_p2 = audience_df['WORKING_STRING_P2']\n",
    "#value_list_p2\n",
    "\n",
    "seperator_p2 = \"\"\",\n",
    "\"\"\"\n",
    "value_list_final_p2 = seperator_p2.join(value_list_p2)\n",
    "\n",
    "# print(value_list_final_p2)"
   ]
  },
  {
   "cell_type": "code",
   "execution_count": 0,
   "metadata": {
    "application/vnd.databricks.v1+cell": {
     "cellMetadata": {
      "byteLimit": 2048000,
      "rowLimit": 10000
     },
     "inputWidgets": {},
     "nuid": "313dd9e8-0eca-49b3-a85b-d0be02655daf",
     "showTitle": false,
     "title": ""
    }
   },
   "outputs": [
    {
     "output_type": "display_data",
     "data": {
      "text/html": [
       "<style scoped>\n",
       "  .ansiout {\n",
       "    display: block;\n",
       "    unicode-bidi: embed;\n",
       "    white-space: pre-wrap;\n",
       "    word-wrap: break-word;\n",
       "    word-break: break-all;\n",
       "    font-family: \"Menlo\", \"Monaco\", \"Consolas\", \"Ubuntu Mono\", \"Source Code Pro\", monospace;\n",
       "    font-size: 13px;\n",
       "    color: #555;\n",
       "    margin-left: 4px;\n",
       "    line-height: 19px;\n",
       "  }\n",
       "</style>"
      ]
     },
     "metadata": {
      "application/vnd.databricks.v1+output": {
       "arguments": {},
       "data": "",
       "errorSummary": "Command skipped",
       "errorTraceType": "html",
       "metadata": {},
       "type": "ipynbError"
      }
     },
     "output_type": "display_data"
    }
   ],
   "source": [
    "# query string part 3\n",
    "# Generate working string part3\n",
    "audience_df['WORKING_STRING_P3'] = '''\"''' + audience_df['AUDIENCE_SHORT_NAME'] + '''\"'''\n",
    "seperator_p3 = \"\"\", \"\"\"\n",
    "value_list_final_p3 = seperator_p3.join(audience_df['WORKING_STRING_P3'])\n",
    "\n",
    "print(value_list_final_p3)"
   ]
  },
  {
   "cell_type": "code",
   "execution_count": 0,
   "metadata": {
    "application/vnd.databricks.v1+cell": {
     "cellMetadata": {
      "byteLimit": 2048000,
      "rowLimit": 10000
     },
     "inputWidgets": {},
     "nuid": "027747d9-9b6f-4eac-974f-15a1dfd12b5f",
     "showTitle": false,
     "title": ""
    }
   },
   "outputs": [
    {
     "output_type": "display_data",
     "data": {
      "text/html": [
       "<style scoped>\n",
       "  .ansiout {\n",
       "    display: block;\n",
       "    unicode-bidi: embed;\n",
       "    white-space: pre-wrap;\n",
       "    word-wrap: break-word;\n",
       "    word-break: break-all;\n",
       "    font-family: \"Menlo\", \"Monaco\", \"Consolas\", \"Ubuntu Mono\", \"Source Code Pro\", monospace;\n",
       "    font-size: 13px;\n",
       "    color: #555;\n",
       "    margin-left: 4px;\n",
       "    line-height: 19px;\n",
       "  }\n",
       "</style>"
      ]
     },
     "metadata": {
      "application/vnd.databricks.v1+output": {
       "arguments": {},
       "data": "",
       "errorSummary": "Command skipped",
       "errorTraceType": "html",
       "metadata": {},
       "type": "ipynbError"
      }
     },
     "output_type": "display_data"
    }
   ],
   "source": [
    "new_query = f\"\"\"\n",
    "with wq as\n",
    "(\n",
    "    {value_list_final}\n",
    "),\n",
    "wq2 as\n",
    "(\n",
    "    select distinct {id_type}, VALUE\n",
    "    from wq\n",
    "),\n",
    "wq3 as\n",
    "(\n",
    "    SELECT\n",
    "    {id_type},\n",
    "    {value_list_final_p2}\n",
    "    FROM wq2\n",
    "    group by {id_type}\n",
    ")\n",
    "select {value_list_final_p3}, count(distinct {id_type}) as SIZE from wq3\n",
    "group by {value_list_final_p3}\n",
    "\"\"\"\n",
    "\n",
    "print(new_query)"
   ]
  },
  {
   "cell_type": "code",
   "execution_count": 0,
   "metadata": {
    "application/vnd.databricks.v1+cell": {
     "cellMetadata": {
      "byteLimit": 2048000,
      "rowLimit": 10000
     },
     "inputWidgets": {},
     "nuid": "4b8f04a2-5646-43b5-9115-39af0e757969",
     "showTitle": false,
     "title": ""
    }
   },
   "outputs": [
    {
     "output_type": "display_data",
     "data": {
      "text/html": [
       "<style scoped>\n",
       "  .ansiout {\n",
       "    display: block;\n",
       "    unicode-bidi: embed;\n",
       "    white-space: pre-wrap;\n",
       "    word-wrap: break-word;\n",
       "    word-break: break-all;\n",
       "    font-family: \"Menlo\", \"Monaco\", \"Consolas\", \"Ubuntu Mono\", \"Source Code Pro\", monospace;\n",
       "    font-size: 13px;\n",
       "    color: #555;\n",
       "    margin-left: 4px;\n",
       "    line-height: 19px;\n",
       "  }\n",
       "</style>"
      ]
     },
     "metadata": {
      "application/vnd.databricks.v1+output": {
       "arguments": {},
       "data": "",
       "errorSummary": "Command skipped",
       "errorTraceType": "html",
       "metadata": {},
       "type": "ipynbError"
      }
     },
     "output_type": "display_data"
    }
   ],
   "source": [
    "df_to_return = spark.read.format(\"snowflake\").options(**sfOptions).option(\"query\", new_query).load()"
   ]
  },
  {
   "cell_type": "code",
   "execution_count": 0,
   "metadata": {
    "application/vnd.databricks.v1+cell": {
     "cellMetadata": {
      "byteLimit": 2048000,
      "rowLimit": 10000
     },
     "inputWidgets": {},
     "nuid": "534766e8-5331-4d06-9488-bab77fd499cf",
     "showTitle": false,
     "title": ""
    }
   },
   "outputs": [
    {
     "output_type": "display_data",
     "data": {
      "text/html": [
       "<style scoped>\n",
       "  .ansiout {\n",
       "    display: block;\n",
       "    unicode-bidi: embed;\n",
       "    white-space: pre-wrap;\n",
       "    word-wrap: break-word;\n",
       "    word-break: break-all;\n",
       "    font-family: \"Menlo\", \"Monaco\", \"Consolas\", \"Ubuntu Mono\", \"Source Code Pro\", monospace;\n",
       "    font-size: 13px;\n",
       "    color: #555;\n",
       "    margin-left: 4px;\n",
       "    line-height: 19px;\n",
       "  }\n",
       "</style>"
      ]
     },
     "metadata": {
      "application/vnd.databricks.v1+output": {
       "arguments": {},
       "data": "",
       "errorSummary": "Command skipped",
       "errorTraceType": "html",
       "metadata": {},
       "type": "ipynbError"
      }
     },
     "output_type": "display_data"
    }
   ],
   "source": [
    "df_to_return_pd = df_to_return.toPandas()"
   ]
  },
  {
   "cell_type": "code",
   "execution_count": 0,
   "metadata": {
    "application/vnd.databricks.v1+cell": {
     "cellMetadata": {
      "byteLimit": 2048000,
      "rowLimit": 10000
     },
     "inputWidgets": {},
     "nuid": "912aadf7-53f4-4a46-bf52-a78bedb5de6b",
     "showTitle": false,
     "title": ""
    }
   },
   "outputs": [
    {
     "output_type": "display_data",
     "data": {
      "text/html": [
       "<style scoped>\n",
       "  .ansiout {\n",
       "    display: block;\n",
       "    unicode-bidi: embed;\n",
       "    white-space: pre-wrap;\n",
       "    word-wrap: break-word;\n",
       "    word-break: break-all;\n",
       "    font-family: \"Menlo\", \"Monaco\", \"Consolas\", \"Ubuntu Mono\", \"Source Code Pro\", monospace;\n",
       "    font-size: 13px;\n",
       "    color: #555;\n",
       "    margin-left: 4px;\n",
       "    line-height: 19px;\n",
       "  }\n",
       "</style>"
      ]
     },
     "metadata": {
      "application/vnd.databricks.v1+output": {
       "arguments": {},
       "data": "",
       "errorSummary": "Command skipped",
       "errorTraceType": "html",
       "metadata": {},
       "type": "ipynbError"
      }
     },
     "output_type": "display_data"
    }
   ],
   "source": [
    "# remove doubble quotes from column headers\n",
    "df_to_return_pd.columns = [col.replace('\"', '') for col in df_to_return_pd.columns]"
   ]
  },
  {
   "cell_type": "code",
   "execution_count": 0,
   "metadata": {
    "application/vnd.databricks.v1+cell": {
     "cellMetadata": {
      "byteLimit": 2048000,
      "rowLimit": 10000
     },
     "inputWidgets": {},
     "nuid": "b4fb3e42-ffa5-458a-b0bd-3f23a3f71f4b",
     "showTitle": false,
     "title": ""
    }
   },
   "outputs": [
    {
     "output_type": "display_data",
     "data": {
      "text/html": [
       "<style scoped>\n",
       "  .ansiout {\n",
       "    display: block;\n",
       "    unicode-bidi: embed;\n",
       "    white-space: pre-wrap;\n",
       "    word-wrap: break-word;\n",
       "    word-break: break-all;\n",
       "    font-family: \"Menlo\", \"Monaco\", \"Consolas\", \"Ubuntu Mono\", \"Source Code Pro\", monospace;\n",
       "    font-size: 13px;\n",
       "    color: #555;\n",
       "    margin-left: 4px;\n",
       "    line-height: 19px;\n",
       "  }\n",
       "</style>"
      ]
     },
     "metadata": {
      "application/vnd.databricks.v1+output": {
       "arguments": {},
       "data": "",
       "errorSummary": "Command skipped",
       "errorTraceType": "html",
       "metadata": {},
       "type": "ipynbError"
      }
     },
     "output_type": "display_data"
    }
   ],
   "source": [
    "# Convert strings to integers\n",
    "# df_to_return_pd['SIZE'] = df_to_return_pd['SIZE'].astype(str).astype(int)\n",
    "df_to_return_pd = df_to_return_pd.applymap(lambda x: int(str(x)))\n",
    "\n",
    "df_to_return_pd.dtypes"
   ]
  },
  {
   "cell_type": "code",
   "execution_count": 0,
   "metadata": {
    "application/vnd.databricks.v1+cell": {
     "cellMetadata": {
      "byteLimit": 2048000,
      "rowLimit": 10000
     },
     "inputWidgets": {},
     "nuid": "c35f87d3-e072-4f52-91f8-dff8962512f1",
     "showTitle": false,
     "title": ""
    }
   },
   "outputs": [
    {
     "output_type": "display_data",
     "data": {
      "text/html": [
       "<style scoped>\n",
       "  .ansiout {\n",
       "    display: block;\n",
       "    unicode-bidi: embed;\n",
       "    white-space: pre-wrap;\n",
       "    word-wrap: break-word;\n",
       "    word-break: break-all;\n",
       "    font-family: \"Menlo\", \"Monaco\", \"Consolas\", \"Ubuntu Mono\", \"Source Code Pro\", monospace;\n",
       "    font-size: 13px;\n",
       "    color: #555;\n",
       "    margin-left: 4px;\n",
       "    line-height: 19px;\n",
       "  }\n",
       "</style>"
      ]
     },
     "metadata": {
      "application/vnd.databricks.v1+output": {
       "arguments": {},
       "data": "",
       "errorSummary": "Command skipped",
       "errorTraceType": "html",
       "metadata": {},
       "type": "ipynbError"
      }
     },
     "output_type": "display_data"
    }
   ],
   "source": [
    "# Make a copy of the returned dataframe\n",
    "df = df_to_return_pd.copy()\n",
    "# df"
   ]
  },
  {
   "cell_type": "code",
   "execution_count": 0,
   "metadata": {
    "application/vnd.databricks.v1+cell": {
     "cellMetadata": {
      "byteLimit": 2048000,
      "rowLimit": 10000
     },
     "inputWidgets": {},
     "nuid": "ff6fc7e1-ebd8-4063-aa76-c93ea801bfb8",
     "showTitle": false,
     "title": ""
    }
   },
   "outputs": [
    {
     "output_type": "display_data",
     "data": {
      "text/html": [
       "<style scoped>\n",
       "  .ansiout {\n",
       "    display: block;\n",
       "    unicode-bidi: embed;\n",
       "    white-space: pre-wrap;\n",
       "    word-wrap: break-word;\n",
       "    word-break: break-all;\n",
       "    font-family: \"Menlo\", \"Monaco\", \"Consolas\", \"Ubuntu Mono\", \"Source Code Pro\", monospace;\n",
       "    font-size: 13px;\n",
       "    color: #555;\n",
       "    margin-left: 4px;\n",
       "    line-height: 19px;\n",
       "  }\n",
       "</style>"
      ]
     },
     "metadata": {
      "application/vnd.databricks.v1+output": {
       "arguments": {},
       "data": "",
       "errorSummary": "Command skipped",
       "errorTraceType": "html",
       "metadata": {},
       "type": "ipynbError"
      }
     },
     "output_type": "display_data"
    }
   ],
   "source": [
    "# Convert 1s and 0s to True and False\n",
    "# Replace 1 with True and 0 with False\n",
    "\n",
    "cols_to_replace = df.columns[:len(audience_df['AUDIENCE_SHORT_NAME'])] \n",
    "cols_to_replace\n",
    "\n",
    "df[cols_to_replace] = df[cols_to_replace].replace(1, True)\n",
    "df[cols_to_replace] = df[cols_to_replace].replace(0, False)\n",
    "df.head(10)"
   ]
  },
  {
   "cell_type": "code",
   "execution_count": 0,
   "metadata": {
    "application/vnd.databricks.v1+cell": {
     "cellMetadata": {
      "byteLimit": 2048000,
      "rowLimit": 10000
     },
     "inputWidgets": {},
     "nuid": "c919538d-bde2-466b-bcda-306bdc3db1b1",
     "showTitle": false,
     "title": ""
    }
   },
   "outputs": [
    {
     "output_type": "display_data",
     "data": {
      "text/html": [
       "<style scoped>\n",
       "  .ansiout {\n",
       "    display: block;\n",
       "    unicode-bidi: embed;\n",
       "    white-space: pre-wrap;\n",
       "    word-wrap: break-word;\n",
       "    word-break: break-all;\n",
       "    font-family: \"Menlo\", \"Monaco\", \"Consolas\", \"Ubuntu Mono\", \"Source Code Pro\", monospace;\n",
       "    font-size: 13px;\n",
       "    color: #555;\n",
       "    margin-left: 4px;\n",
       "    line-height: 19px;\n",
       "  }\n",
       "</style>"
      ]
     },
     "metadata": {
      "application/vnd.databricks.v1+output": {
       "arguments": {},
       "data": "",
       "errorSummary": "Command skipped",
       "errorTraceType": "html",
       "metadata": {},
       "type": "ipynbError"
      }
     },
     "output_type": "display_data"
    }
   ],
   "source": [
    "# reset index\n",
    "df_2 = df.set_index(list(df.columns[:len(audience_df['AUDIENCE_SHORT_NAME'])]))\n",
    "\n",
    "# convert dataframe to series\n",
    "c_series = df_2.squeeze(axis=0)\n",
    "# c_series\n",
    "\n",
    "plot_series = c_series.SIZE\n",
    "plot_series"
   ]
  },
  {
   "cell_type": "code",
   "execution_count": 0,
   "metadata": {
    "application/vnd.databricks.v1+cell": {
     "cellMetadata": {
      "byteLimit": 2048000,
      "rowLimit": 10000
     },
     "inputWidgets": {},
     "nuid": "1c2d2178-282d-49ea-8ed8-604d72902114",
     "showTitle": false,
     "title": ""
    }
   },
   "outputs": [
    {
     "output_type": "display_data",
     "data": {
      "text/html": [
       "<style scoped>\n",
       "  .ansiout {\n",
       "    display: block;\n",
       "    unicode-bidi: embed;\n",
       "    white-space: pre-wrap;\n",
       "    word-wrap: break-word;\n",
       "    word-break: break-all;\n",
       "    font-family: \"Menlo\", \"Monaco\", \"Consolas\", \"Ubuntu Mono\", \"Source Code Pro\", monospace;\n",
       "    font-size: 13px;\n",
       "    color: #555;\n",
       "    margin-left: 4px;\n",
       "    line-height: 19px;\n",
       "  }\n",
       "</style>"
      ]
     },
     "metadata": {
      "application/vnd.databricks.v1+output": {
       "arguments": {},
       "data": "",
       "errorSummary": "Command skipped",
       "errorTraceType": "html",
       "metadata": {},
       "type": "ipynbError"
      }
     },
     "output_type": "display_data"
    }
   ],
   "source": [
    "# Check on the data type - Need to be Integer\n",
    "plot_series.dtype"
   ]
  },
  {
   "cell_type": "markdown",
   "metadata": {
    "application/vnd.databricks.v1+cell": {
     "cellMetadata": {
      "byteLimit": 2048000,
      "rowLimit": 10000
     },
     "inputWidgets": {},
     "nuid": "98528855-5132-4547-b65d-c017abaca7bb",
     "showTitle": false,
     "title": ""
    }
   },
   "source": [
    "## Upset Plot v1: Raw Audience Sizes - Sorted by Category"
   ]
  },
  {
   "cell_type": "code",
   "execution_count": 0,
   "metadata": {
    "application/vnd.databricks.v1+cell": {
     "cellMetadata": {
      "byteLimit": 2048000,
      "rowLimit": 10000
     },
     "inputWidgets": {},
     "nuid": "07bd4b84-211d-488d-8af0-8abbcef25481",
     "showTitle": false,
     "title": ""
    }
   },
   "outputs": [
    {
     "output_type": "display_data",
     "data": {
      "text/html": [
       "<style scoped>\n",
       "  .ansiout {\n",
       "    display: block;\n",
       "    unicode-bidi: embed;\n",
       "    white-space: pre-wrap;\n",
       "    word-wrap: break-word;\n",
       "    word-break: break-all;\n",
       "    font-family: \"Menlo\", \"Monaco\", \"Consolas\", \"Ubuntu Mono\", \"Source Code Pro\", monospace;\n",
       "    font-size: 13px;\n",
       "    color: #555;\n",
       "    margin-left: 4px;\n",
       "    line-height: 19px;\n",
       "  }\n",
       "</style>"
      ]
     },
     "metadata": {
      "application/vnd.databricks.v1+output": {
       "arguments": {},
       "data": "",
       "errorSummary": "Command skipped",
       "errorTraceType": "html",
       "metadata": {},
       "type": "ipynbError"
      }
     },
     "output_type": "display_data"
    }
   ],
   "source": [
    "### Upset Plot by Audience Name\n",
    "\n",
    "# create plot sorted by category\n",
    "cplot = UpSet(plot_series,sort_categories_by='cardinality', show_counts='%02d', show_percentages=True,element_size=50, min_subset_size = min_bar_size)\n",
    "# cplot\n",
    "\n",
    "# show plot\n",
    "fig = plt.figure(figsize=(100, 200))\n",
    "cplot.plot()\n",
    "\n",
    "# set plot name\n",
    "# lot_file_name = image_names[0]\n",
    "# plot_file_name\n",
    "temp_plot_file_name = \"/tmp/\"+ image_names[0]\n",
    "# temp_plot_file_name\n",
    "\n",
    "# 1. Save the image file\n",
    "plt.savefig(temp_plot_file_name, dpi=199, bbox_inches=\"tight\")"
   ]
  },
  {
   "cell_type": "markdown",
   "metadata": {
    "application/vnd.databricks.v1+cell": {
     "cellMetadata": {
      "byteLimit": 2048000,
      "rowLimit": 10000
     },
     "inputWidgets": {},
     "nuid": "1f09840f-eb1f-4396-8261-b0118197a978",
     "showTitle": false,
     "title": ""
    }
   },
   "source": [
    "## Upset Plot v2: Raw Audience Sizes - Sorted by Volume"
   ]
  },
  {
   "cell_type": "code",
   "execution_count": 0,
   "metadata": {
    "application/vnd.databricks.v1+cell": {
     "cellMetadata": {
      "byteLimit": 2048000,
      "rowLimit": 10000
     },
     "inputWidgets": {},
     "nuid": "2c732b59-b09b-4a73-97c2-140c7b715622",
     "showTitle": false,
     "title": ""
    }
   },
   "outputs": [
    {
     "output_type": "display_data",
     "data": {
      "text/html": [
       "<style scoped>\n",
       "  .ansiout {\n",
       "    display: block;\n",
       "    unicode-bidi: embed;\n",
       "    white-space: pre-wrap;\n",
       "    word-wrap: break-word;\n",
       "    word-break: break-all;\n",
       "    font-family: \"Menlo\", \"Monaco\", \"Consolas\", \"Ubuntu Mono\", \"Source Code Pro\", monospace;\n",
       "    font-size: 13px;\n",
       "    color: #555;\n",
       "    margin-left: 4px;\n",
       "    line-height: 19px;\n",
       "  }\n",
       "</style>"
      ]
     },
     "metadata": {
      "application/vnd.databricks.v1+output": {
       "arguments": {},
       "data": "",
       "errorSummary": "Command skipped",
       "errorTraceType": "html",
       "metadata": {},
       "type": "ipynbError"
      }
     },
     "output_type": "display_data"
    }
   ],
   "source": [
    "### Upset Plot by Audience Name\n",
    "\n",
    "# create plot sorted by category\n",
    "cplot2 = UpSet(plot_series, sort_by='cardinality', show_counts='%02d', show_percentages=True,element_size=50, min_subset_size = min_bar_size)\n",
    "\n",
    "# show plot\n",
    "fig = plt.figure(figsize=(100, 200))\n",
    "cplot2.plot()\n",
    "\n",
    "# set plot name\n",
    "# plot_file_name = image_names[1]\n",
    "# plot_file_name\n",
    "temp_plot_file_name = \"/tmp/\"+ image_names[1]\n",
    "# temp_plot_file_name\n",
    "\n",
    "# 1. Save the image file\n",
    "plt.savefig(temp_plot_file_name, dpi=199, bbox_inches=\"tight\")"
   ]
  },
  {
   "cell_type": "code",
   "execution_count": 0,
   "metadata": {
    "application/vnd.databricks.v1+cell": {
     "cellMetadata": {
      "byteLimit": 2048000,
      "rowLimit": 10000
     },
     "inputWidgets": {},
     "nuid": "29a66115-7c79-47e5-8d4a-131901b46cce",
     "showTitle": false,
     "title": ""
    }
   },
   "outputs": [
    {
     "output_type": "display_data",
     "data": {
      "text/html": [
       "<style scoped>\n",
       "  .ansiout {\n",
       "    display: block;\n",
       "    unicode-bidi: embed;\n",
       "    white-space: pre-wrap;\n",
       "    word-wrap: break-word;\n",
       "    word-break: break-all;\n",
       "    font-family: \"Menlo\", \"Monaco\", \"Consolas\", \"Ubuntu Mono\", \"Source Code Pro\", monospace;\n",
       "    font-size: 13px;\n",
       "    color: #555;\n",
       "    margin-left: 4px;\n",
       "    line-height: 19px;\n",
       "  }\n",
       "</style>"
      ]
     },
     "metadata": {
      "application/vnd.databricks.v1+output": {
       "arguments": {},
       "data": "",
       "errorSummary": "Command skipped",
       "errorTraceType": "html",
       "metadata": {},
       "type": "ipynbError"
      }
     },
     "output_type": "display_data"
    }
   ],
   "source": [
    "## Show audience size in thousands\n",
    "\n",
    "# Divide size by 1000 to fit the plot\n",
    "df_k = df.copy()\n",
    "df_k['SIZE'] = (df_k['SIZE']/1000).round().astype(int)\n",
    "# df_k.head()\n",
    "\n",
    "# Renaming the columns\n",
    "cols_to_modify = df_k.columns[:len(audience_df['AUDIENCE_SHORT_NAME'])] \n",
    "cols_to_modify\n",
    "\n",
    "for col in cols_to_modify:\n",
    "    df_k.rename(columns={col: col + \" (K)\"}, inplace=True)\n",
    "# df_k.head(10)\n",
    "\n",
    "# reset index\n",
    "df_k_2 = df_k.set_index(list(df_k.columns[:len(audience_df['AUDIENCE_SHORT_NAME'])]))\n",
    "#df_k_2\n",
    "\n",
    "# convert dataframe to series\n",
    "c_series_k = df_k_2.squeeze(axis=0)\n",
    "# c_series_k\n",
    "\n",
    "plot_series_k = c_series_k.SIZE\n",
    "plot_series_k"
   ]
  },
  {
   "cell_type": "code",
   "execution_count": 0,
   "metadata": {
    "application/vnd.databricks.v1+cell": {
     "cellMetadata": {
      "byteLimit": 2048000,
      "rowLimit": 10000
     },
     "inputWidgets": {},
     "nuid": "b79e1486-2d46-421f-a880-e2a980955aa1",
     "showTitle": false,
     "title": ""
    }
   },
   "outputs": [
    {
     "output_type": "display_data",
     "data": {
      "text/html": [
       "<style scoped>\n",
       "  .ansiout {\n",
       "    display: block;\n",
       "    unicode-bidi: embed;\n",
       "    white-space: pre-wrap;\n",
       "    word-wrap: break-word;\n",
       "    word-break: break-all;\n",
       "    font-family: \"Menlo\", \"Monaco\", \"Consolas\", \"Ubuntu Mono\", \"Source Code Pro\", monospace;\n",
       "    font-size: 13px;\n",
       "    color: #555;\n",
       "    margin-left: 4px;\n",
       "    line-height: 19px;\n",
       "  }\n",
       "</style>"
      ]
     },
     "metadata": {
      "application/vnd.databricks.v1+output": {
       "arguments": {},
       "data": "",
       "errorSummary": "Command skipped",
       "errorTraceType": "html",
       "metadata": {},
       "type": "ipynbError"
      }
     },
     "output_type": "display_data"
    }
   ],
   "source": [
    "# Min bar size by K\n",
    "min_bar_size_k = round(min_bar_size / 1000 )\n",
    "min_bar_size_k "
   ]
  },
  {
   "cell_type": "code",
   "execution_count": 0,
   "metadata": {
    "application/vnd.databricks.v1+cell": {
     "cellMetadata": {
      "byteLimit": 2048000,
      "rowLimit": 10000
     },
     "inputWidgets": {},
     "nuid": "31b4e83f-a627-4f3a-b2f2-f315a959ab44",
     "showTitle": false,
     "title": ""
    }
   },
   "outputs": [],
   "source": []
  },
  {
   "cell_type": "markdown",
   "metadata": {
    "application/vnd.databricks.v1+cell": {
     "cellMetadata": {
      "byteLimit": 2048000,
      "rowLimit": 10000
     },
     "inputWidgets": {},
     "nuid": "c609903d-d5db-4f0b-9fa1-e6bfb3bdb0fd",
     "showTitle": false,
     "title": ""
    }
   },
   "source": [
    "## Upset Plot v3: Audience Sizes by Thousands - Sorted by Category"
   ]
  },
  {
   "cell_type": "code",
   "execution_count": 0,
   "metadata": {
    "application/vnd.databricks.v1+cell": {
     "cellMetadata": {
      "byteLimit": 2048000,
      "rowLimit": 10000
     },
     "inputWidgets": {},
     "nuid": "95eacf69-9f9b-4f8e-8c5d-d18df03de8c4",
     "showTitle": false,
     "title": ""
    }
   },
   "outputs": [
    {
     "output_type": "display_data",
     "data": {
      "text/html": [
       "<style scoped>\n",
       "  .ansiout {\n",
       "    display: block;\n",
       "    unicode-bidi: embed;\n",
       "    white-space: pre-wrap;\n",
       "    word-wrap: break-word;\n",
       "    word-break: break-all;\n",
       "    font-family: \"Menlo\", \"Monaco\", \"Consolas\", \"Ubuntu Mono\", \"Source Code Pro\", monospace;\n",
       "    font-size: 13px;\n",
       "    color: #555;\n",
       "    margin-left: 4px;\n",
       "    line-height: 19px;\n",
       "  }\n",
       "</style>"
      ]
     },
     "metadata": {
      "application/vnd.databricks.v1+output": {
       "arguments": {},
       "data": "",
       "errorSummary": "Command skipped",
       "errorTraceType": "html",
       "metadata": {},
       "type": "ipynbError"
      }
     },
     "output_type": "display_data"
    }
   ],
   "source": [
    "### Upset Plot by Audience Name\n",
    "\n",
    "# create plot sorted by category\n",
    "cplot_k = UpSet(plot_series_k, sort_categories_by='cardinality', show_counts='%02d', show_percentages=True,element_size=50, min_subset_size = min_bar_size_k )\n",
    "# cplot\n",
    "\n",
    "# show plot\n",
    "fig = plt.figure(figsize=(100, 200))\n",
    "cplot_k.plot()\n",
    "\n",
    "# set plot name\n",
    "# lot_file_name = image_names[0]\n",
    "# plot_file_name\n",
    "temp_plot_file_name = \"/tmp/\"+ image_names[2]\n",
    "# temp_plot_file_name\n",
    "\n",
    "# 1. Save the image file\n",
    "plt.savefig(temp_plot_file_name, dpi=199, bbox_inches=\"tight\")"
   ]
  },
  {
   "cell_type": "markdown",
   "metadata": {
    "application/vnd.databricks.v1+cell": {
     "cellMetadata": {
      "byteLimit": 2048000,
      "rowLimit": 10000
     },
     "inputWidgets": {},
     "nuid": "b15dc0b5-38b4-437c-884a-6908e42b0aa6",
     "showTitle": false,
     "title": ""
    }
   },
   "source": [
    "## Upset Plot v4: Audience Sizes by Thousands - Sorted by Volume"
   ]
  },
  {
   "cell_type": "code",
   "execution_count": 0,
   "metadata": {
    "application/vnd.databricks.v1+cell": {
     "cellMetadata": {
      "byteLimit": 2048000,
      "rowLimit": 10000
     },
     "inputWidgets": {},
     "nuid": "b67c1485-a11d-4ffc-8a62-77323f83169d",
     "showTitle": false,
     "title": ""
    }
   },
   "outputs": [
    {
     "output_type": "display_data",
     "data": {
      "text/html": [
       "<style scoped>\n",
       "  .ansiout {\n",
       "    display: block;\n",
       "    unicode-bidi: embed;\n",
       "    white-space: pre-wrap;\n",
       "    word-wrap: break-word;\n",
       "    word-break: break-all;\n",
       "    font-family: \"Menlo\", \"Monaco\", \"Consolas\", \"Ubuntu Mono\", \"Source Code Pro\", monospace;\n",
       "    font-size: 13px;\n",
       "    color: #555;\n",
       "    margin-left: 4px;\n",
       "    line-height: 19px;\n",
       "  }\n",
       "</style>"
      ]
     },
     "metadata": {
      "application/vnd.databricks.v1+output": {
       "arguments": {},
       "data": "",
       "errorSummary": "Command skipped",
       "errorTraceType": "html",
       "metadata": {},
       "type": "ipynbError"
      }
     },
     "output_type": "display_data"
    }
   ],
   "source": [
    "### Upset Plot by Audience Name\n",
    "\n",
    "# create plot sorted by category\n",
    "cplot_k2 = UpSet(plot_series_k,sort_by='cardinality', show_counts='%02d', show_percentages=True,element_size=50, min_subset_size = min_bar_size_k )\n",
    "\n",
    "# show plot\n",
    "fig = plt.figure(figsize=(100, 200))\n",
    "cplot_k2.plot()\n",
    "\n",
    "temp_plot_file_name = \"/tmp/\"+ image_names[3]\n",
    "# temp_plot_file_name\n",
    "\n",
    "# 1. Save the image file\n",
    "plt.savefig(temp_plot_file_name, dpi=199, bbox_inches=\"tight\")"
   ]
  },
  {
   "cell_type": "code",
   "execution_count": 0,
   "metadata": {
    "application/vnd.databricks.v1+cell": {
     "cellMetadata": {
      "byteLimit": 2048000,
      "rowLimit": 10000
     },
     "inputWidgets": {},
     "nuid": "92109e12-c670-4a24-b692-a577df15c5c4",
     "showTitle": false,
     "title": ""
    }
   },
   "outputs": [
    {
     "output_type": "display_data",
     "data": {
      "text/html": [
       "<style scoped>\n",
       "  .ansiout {\n",
       "    display: block;\n",
       "    unicode-bidi: embed;\n",
       "    white-space: pre-wrap;\n",
       "    word-wrap: break-word;\n",
       "    word-break: break-all;\n",
       "    font-family: \"Menlo\", \"Monaco\", \"Consolas\", \"Ubuntu Mono\", \"Source Code Pro\", monospace;\n",
       "    font-size: 13px;\n",
       "    color: #555;\n",
       "    margin-left: 4px;\n",
       "    line-height: 19px;\n",
       "  }\n",
       "</style>"
      ]
     },
     "metadata": {
      "application/vnd.databricks.v1+output": {
       "arguments": {},
       "data": "",
       "errorSummary": "Command skipped",
       "errorTraceType": "html",
       "metadata": {},
       "type": "ipynbError"
      }
     },
     "output_type": "display_data"
    }
   ],
   "source": [
    "current_date = date.today().strftime(\"%Y_%m_%d\")\n",
    "current_date"
   ]
  },
  {
   "cell_type": "code",
   "execution_count": 0,
   "metadata": {
    "application/vnd.databricks.v1+cell": {
     "cellMetadata": {
      "byteLimit": 2048000,
      "rowLimit": 10000
     },
     "inputWidgets": {},
     "nuid": "fc97463a-4163-4003-a189-99cd38bbad8b",
     "showTitle": false,
     "title": ""
    }
   },
   "outputs": [
    {
     "output_type": "display_data",
     "data": {
      "text/html": [
       "<style scoped>\n",
       "  .ansiout {\n",
       "    display: block;\n",
       "    unicode-bidi: embed;\n",
       "    white-space: pre-wrap;\n",
       "    word-wrap: break-word;\n",
       "    word-break: break-all;\n",
       "    font-family: \"Menlo\", \"Monaco\", \"Consolas\", \"Ubuntu Mono\", \"Source Code Pro\", monospace;\n",
       "    font-size: 13px;\n",
       "    color: #555;\n",
       "    margin-left: 4px;\n",
       "    line-height: 19px;\n",
       "  }\n",
       "</style>"
      ]
     },
     "metadata": {
      "application/vnd.databricks.v1+output": {
       "arguments": {},
       "data": "",
       "errorSummary": "Command skipped",
       "errorTraceType": "html",
       "metadata": {},
       "type": "ipynbError"
      }
     },
     "output_type": "display_data"
    }
   ],
   "source": [
    "current_time = datetime.now().strftime(\"%H_%M_%S\")\n",
    "current_time"
   ]
  },
  {
   "cell_type": "code",
   "execution_count": 0,
   "metadata": {
    "application/vnd.databricks.v1+cell": {
     "cellMetadata": {
      "byteLimit": 2048000,
      "rowLimit": 10000
     },
     "inputWidgets": {},
     "nuid": "0fe6372e-3834-4d67-b78e-35d905185890",
     "showTitle": false,
     "title": ""
    }
   },
   "outputs": [
    {
     "output_type": "display_data",
     "data": {
      "text/html": [
       "<style scoped>\n",
       "  .ansiout {\n",
       "    display: block;\n",
       "    unicode-bidi: embed;\n",
       "    white-space: pre-wrap;\n",
       "    word-wrap: break-word;\n",
       "    word-break: break-all;\n",
       "    font-family: \"Menlo\", \"Monaco\", \"Consolas\", \"Ubuntu Mono\", \"Source Code Pro\", monospace;\n",
       "    font-size: 13px;\n",
       "    color: #555;\n",
       "    margin-left: 4px;\n",
       "    line-height: 19px;\n",
       "  }\n",
       "</style>"
      ]
     },
     "metadata": {
      "application/vnd.databricks.v1+output": {
       "arguments": {},
       "data": "",
       "errorSummary": "Command skipped",
       "errorTraceType": "html",
       "metadata": {},
       "type": "ipynbError"
      }
     },
     "output_type": "display_data"
    }
   ],
   "source": [
    "\n",
    "# Copy data from temp storage into dbfs storage, then move the file into Azure Blob storage\n",
    "azure_path = \"abfss://marketing-science@hmimltestdatalake.dfs.core.windows.net/ROUTINE_SCRIPTS_OUTPUTS/UPSET_PLOT/\"\n",
    "\n",
    "for x in image_names:\n",
    "\n",
    "    # 2. Copy data from temp storage into dbfs storage \n",
    "    dbfs_data_path = f\"\"\"/dbfs/mnt/{x}\"\"\"\n",
    "    temp_plot_file_name_2 = \"/tmp/\" + x\n",
    "    copyfile(temp_plot_file_name_2 , dbfs_data_path)\n",
    "\n",
    "    # 3. Move plot image file from dbfs storage into Azure Blob storage\n",
    "    # azure_file_name = azure_path + f\"{requester}/{x}\"\n",
    "    azure_file_name = azure_path + f\"{requester}/{current_date}/{current_time}/{x}\"\n",
    "    # print(azure_file_name)\n",
    "    dbfs_data_path_for_moving = dbfs_data_path.replace(\"/dbfs\", \"dbfs:\")\n",
    "    # print(dbfs_data_path_for_moving)\n",
    "    dbutils.fs.mv(dbfs_data_path_for_moving, azure_file_name)\n",
    "\n",
    "    print(x, \"is saved into Azure Storage\")"
   ]
  },
  {
   "cell_type": "code",
   "execution_count": 0,
   "metadata": {
    "application/vnd.databricks.v1+cell": {
     "cellMetadata": {
      "byteLimit": 2048000,
      "rowLimit": 10000
     },
     "inputWidgets": {},
     "nuid": "cd42068b-7383-43c8-8092-79545218d124",
     "showTitle": false,
     "title": ""
    }
   },
   "outputs": [
    {
     "output_type": "display_data",
     "data": {
      "text/html": [
       "<style scoped>\n",
       "  .ansiout {\n",
       "    display: block;\n",
       "    unicode-bidi: embed;\n",
       "    white-space: pre-wrap;\n",
       "    word-wrap: break-word;\n",
       "    word-break: break-all;\n",
       "    font-family: \"Menlo\", \"Monaco\", \"Consolas\", \"Ubuntu Mono\", \"Source Code Pro\", monospace;\n",
       "    font-size: 13px;\n",
       "    color: #555;\n",
       "    margin-left: 4px;\n",
       "    line-height: 19px;\n",
       "  }\n",
       "</style>"
      ]
     },
     "metadata": {
      "application/vnd.databricks.v1+output": {
       "arguments": {},
       "data": "",
       "errorSummary": "Command skipped",
       "errorTraceType": "html",
       "metadata": {},
       "type": "ipynbError"
      }
     },
     "output_type": "display_data"
    }
   ],
   "source": [
    "# Export Excel file:\n",
    "# 1. Save Excel file: \n",
    "temp_excel_file_name = \"/tmp/\"+ excel_file_name\n",
    "df_to_return_pd.to_excel(temp_excel_file_name, index = False, sheet_name = 'audience overlap')\n",
    "\n",
    "# 2. Copy data from temp storage into dbfs storage \n",
    "dbfs_data_path = f\"\"\"/dbfs/mnt/{excel_file_name}\"\"\"\n",
    "temp_excel_file_name_2 = \"/tmp/\" + excel_file_name\n",
    "copyfile(temp_excel_file_name_2 , dbfs_data_path)\n",
    "\n",
    "# 3. Move export file from dbfs storage into Azure Blob storage\n",
    "# azure_file_name = azure_path + f\"{requester}/{excel_file_name}\"\n",
    "azure_file_name = azure_path + f\"{requester}/{current_date}/{current_time}/{excel_file_name}\"\n",
    "# print(azure_file_name)\n",
    "dbfs_data_path_for_moving = dbfs_data_path.replace(\"/dbfs\", \"dbfs:\")\n",
    "# print(dbfs_data_path_for_moving)\n",
    "dbutils.fs.mv(dbfs_data_path_for_moving, azure_file_name)\n",
    "\n",
    "print(excel_file_name, \"is saved into Azure Storage\")"
   ]
  },
  {
   "cell_type": "code",
   "execution_count": 0,
   "metadata": {
    "application/vnd.databricks.v1+cell": {
     "cellMetadata": {
      "byteLimit": 2048000,
      "rowLimit": 10000
     },
     "inputWidgets": {},
     "nuid": "6fc491a3-cf3f-4487-a9f7-1003b315a516",
     "showTitle": false,
     "title": ""
    }
   },
   "outputs": [
    {
     "output_type": "display_data",
     "data": {
      "text/html": [
       "<style scoped>\n",
       "  .ansiout {\n",
       "    display: block;\n",
       "    unicode-bidi: embed;\n",
       "    white-space: pre-wrap;\n",
       "    word-wrap: break-word;\n",
       "    word-break: break-all;\n",
       "    font-family: \"Menlo\", \"Monaco\", \"Consolas\", \"Ubuntu Mono\", \"Source Code Pro\", monospace;\n",
       "    font-size: 13px;\n",
       "    color: #555;\n",
       "    margin-left: 4px;\n",
       "    line-height: 19px;\n",
       "  }\n",
       "</style>"
      ]
     },
     "metadata": {
      "application/vnd.databricks.v1+output": {
       "arguments": {},
       "data": "",
       "errorSummary": "Command skipped",
       "errorTraceType": "html",
       "metadata": {},
       "type": "ipynbError"
      }
     },
     "output_type": "display_data"
    }
   ],
   "source": [
    "print(\"Done with Upset Plots!\")"
   ]
  },
  {
   "cell_type": "code",
   "execution_count": 0,
   "metadata": {
    "application/vnd.databricks.v1+cell": {
     "cellMetadata": {
      "byteLimit": 2048000,
      "rowLimit": 10000
     },
     "inputWidgets": {},
     "nuid": "97b803a9-bfe2-47a4-9243-56bf48004709",
     "showTitle": false,
     "title": ""
    }
   },
   "outputs": [],
   "source": []
  }
 ],
 "metadata": {
  "application/vnd.databricks.v1+notebook": {
   "dashboards": [],
   "language": "python",
   "notebookMetadata": {
    "pythonIndentUnit": 4,
    "widgetLayout": [
     {
      "breakBefore": false,
      "name": "Requester_Name",
      "width": 203
     },
     {
      "breakBefore": false,
      "name": "SCHEMA",
      "width": 203
     },
     {
      "breakBefore": false,
      "name": "Output_Name",
      "width": 203
     },
     {
      "breakBefore": false,
      "name": "Table_Names",
      "width": 203
     },
     {
      "breakBefore": false,
      "name": "Audience_Names",
      "width": 203
     }
    ]
   },
   "notebookName": "01_UPSET_PLOT_FOR_MULTIPLE_AUDIENCES_INPUT",
   "widgets": {
    "01_Requester_Name": {
     "currentValue": "XZHANG",
     "nuid": "80ddc1d9-01f8-4d59-af49-5cd3fea6b0d0",
     "widgetInfo": {
      "widgetType": "text",
      "defaultValue": "Enter_Your_Name",
      "label": "01 Requester Name",
      "name": "01_Requester_Name",
      "options": {
       "widgetType": "text",
       "autoCreated": null,
       "validationRegex": null
      }
     }
    },
    "02_SF_Schema": {
     "currentValue": "ADVANCEDANALYTICS_SANDBOX",
     "nuid": "b68d7e3a-c988-45f2-9d2c-c0580c54d74b",
     "widgetInfo": {
      "widgetType": "text",
      "defaultValue": "ADVANCEDANALYTICS_SANDBOX",
      "label": "02 SF Schema",
      "name": "02_SF_Schema",
      "options": {
       "widgetType": "text",
       "autoCreated": null,
       "validationRegex": null
      }
     }
    },
    "03_Output_Name": {
     "currentValue": "CBS_AUDIENCE",
     "nuid": "7a846838-2c91-45a2-a088-b6f0f805941e",
     "widgetInfo": {
      "widgetType": "text",
      "defaultValue": "Enter_Output_Name",
      "label": "03 Output Name",
      "name": "03_Output_Name",
      "options": {
       "widgetType": "text",
       "autoCreated": null,
       "validationRegex": null
      }
     }
    },
    "04_Table_Names": {
     "currentValue": "CORE_SEED_MID24, HIGH_MODERATE_SEED_MID24, LOW_MODERATE_SEED_MID24, LIGHT_SEED_MID24, CBS_MID_2024_DEDUPED_HISPANIC_VIEWERS, CBS_MID_2024_DEDUPED_AFRICAN_AMERICAN_VIEWER, CBS_MID_2024_DEDUPED_STREAMING_VIEWERS",
     "nuid": "fcb9f45a-7af6-4810-81a1-38d086ccc03c",
     "widgetInfo": {
      "widgetType": "text",
      "defaultValue": "Enter_Table_Name",
      "label": "04 Table Names",
      "name": "04_Table_Names",
      "options": {
       "widgetType": "text",
       "autoCreated": null,
       "validationRegex": null
      }
     }
    },
    "05_Audience_Names": {
     "currentValue": "CORE, HIGH_MODERATE, LOW_MODERATE, LIGHT, HISPANIC, AFRICAN_AMERICAN, STREAMING",
     "nuid": "84bf274d-1728-42fd-86f7-7e7bd5e3d75c",
     "widgetInfo": {
      "widgetType": "text",
      "defaultValue": "Enter_Audience_Names",
      "label": "05 Audience Names",
      "name": "05_Audience_Names",
      "options": {
       "widgetType": "text",
       "autoCreated": null,
       "validationRegex": null
      }
     }
    },
    "06_Min_Bar_Size": {
     "currentValue": "0",
     "nuid": "06f88abd-2a0a-49ed-8a03-c50318a23021",
     "widgetInfo": {
      "widgetType": "text",
      "defaultValue": "0",
      "label": "06 Minimum Bar Size",
      "name": "06_Min_Bar_Size",
      "options": {
       "widgetType": "text",
       "autoCreated": null,
       "validationRegex": null
      }
     }
    },
    "07_ID_Type": {
     "currentValue": "INSCAPE_TV_KEY",
     "nuid": "63a40336-2f54-4b66-84c5-dfd10f919bf2",
     "widgetInfo": {
      "widgetType": "text",
      "defaultValue": "BLU_ID",
      "label": "07 ID Type",
      "name": "07_ID_Type",
      "options": {
       "widgetType": "text",
       "autoCreated": null,
       "validationRegex": null
      }
     }
    }
   }
  }
 },
 "nbformat": 4,
 "nbformat_minor": 0
}
